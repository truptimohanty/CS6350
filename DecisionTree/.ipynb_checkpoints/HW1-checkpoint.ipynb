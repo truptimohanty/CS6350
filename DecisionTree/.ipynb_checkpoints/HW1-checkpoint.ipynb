{
 "cells": [
  {
   "cell_type": "code",
   "execution_count": 102,
   "id": "c048fa6e",
   "metadata": {},
   "outputs": [],
   "source": [
    "import numpy as np\n",
    "import pandas as pd\n",
    "from fractions import Fraction"
   ]
  },
  {
   "cell_type": "code",
   "execution_count": 166,
   "id": "4125f71e",
   "metadata": {},
   "outputs": [],
   "source": [
    "def entropy_calc(p1):\n",
    "    p2 = 1-p1\n",
    "    if p1==1 or p1==0:\n",
    "        return(0)\n",
    "    return(-p1*np.log2(p1)-p2*np.log2(p2))\n",
    "\n",
    "def expected_entropy(sv,s,p_0,p_1):\n",
    "    return((sv/s)*entropy_calc(p_0)+(1-sv/s)*entropy_calc(p_1))\n",
    "\n",
    "def majority_error(p,n):\n",
    "    if p>n: \n",
    "        return (n/(p+n))\n",
    "    else :\n",
    "        return (p/(p+n))\n",
    "    \n",
    "def expected_majority(sv,p,n):\n",
    "    s = sum(sv)\n",
    "    total = 0\n",
    "    for i in range(len(sv)):\n",
    "        print(Fraction(sv[i],s))\n",
    "        print(majority_error(p[i],n[i]))\n",
    "        total = total + (sv[i]/s)*majority_error(p[i],n[i])\n",
    "    return(total)\n"
   ]
  },
  {
   "cell_type": "code",
   "execution_count": 167,
   "id": "3b7e0350",
   "metadata": {},
   "outputs": [
    {
     "data": {
      "text/plain": [
       "0.9852281360342515"
      ]
     },
     "execution_count": 167,
     "metadata": {},
     "output_type": "execute_result"
    }
   ],
   "source": [
    "entropy_calc(3/7)"
   ]
  },
  {
   "cell_type": "code",
   "execution_count": 44,
   "id": "2529641a",
   "metadata": {},
   "outputs": [
    {
     "data": {
      "text/plain": [
       "0.3935553574519241"
      ]
     },
     "execution_count": 44,
     "metadata": {},
     "output_type": "execute_result"
    }
   ],
   "source": [
    "expected_entropy(5,7,1/5,0)\n",
    "expected_entropy(3,7,1/3,0)\n",
    "expected_entropy(4,7,1/4,1/3)\n",
    "expected_entropy(4,7,0,2/3)\n",
    "\n"
   ]
  },
  {
   "cell_type": "code",
   "execution_count": 46,
   "id": "ad0d6f71",
   "metadata": {},
   "outputs": [
    {
     "data": {
      "text/plain": [
       "0.0"
      ]
     },
     "execution_count": 46,
     "metadata": {},
     "output_type": "execute_result"
    }
   ],
   "source": [
    "expected_entropy(1,3,1,1/2)\n",
    "expected_entropy(1,3,1,1)"
   ]
  },
  {
   "cell_type": "code",
   "execution_count": 66,
   "id": "6e4574a3",
   "metadata": {},
   "outputs": [
    {
     "data": {
      "text/plain": [
       "0.2857142857142857"
      ]
     },
     "execution_count": 66,
     "metadata": {},
     "output_type": "execute_result"
    }
   ],
   "source": [
    "majority_error(2,5)"
   ]
  },
  {
   "cell_type": "code",
   "execution_count": 67,
   "id": "9adec672",
   "metadata": {},
   "outputs": [
    {
     "data": {
      "text/plain": [
       "0.2857142857142857"
      ]
     },
     "execution_count": 67,
     "metadata": {},
     "output_type": "execute_result"
    }
   ],
   "source": []
  },
  {
   "cell_type": "code",
   "execution_count": 109,
   "id": "06e83846",
   "metadata": {},
   "outputs": [
    {
     "name": "stdout",
     "output_type": "stream",
     "text": [
      "5/14\n",
      "0.4\n",
      "5/14\n",
      "0.4\n",
      "2/7\n",
      "0.0\n"
     ]
    },
    {
     "data": {
      "text/plain": [
       "0.28571428571428575"
      ]
     },
     "execution_count": 109,
     "metadata": {},
     "output_type": "execute_result"
    }
   ],
   "source": [
    "# sv = [5,5,4] #O\n",
    "# p = [2,3,4]\n",
    "# n = np.subtract(sv,p)\n",
    "# expected_majority(sv,p,n)\n",
    "\n",
    "\n",
    "# sv = [4,6,4]#temp\n",
    "# p = [2,4,3]\n",
    "# n = np.subtract(sv,p)\n",
    "# expected_majority(sv,p,n)\n",
    "\n",
    "\n",
    "sv = [7,7]#Humidity\n",
    "p = [3,6]\n",
    "n = np.subtract(sv,p)\n",
    "expected_majority(sv,p,n)\n",
    "\n"
   ]
  },
  {
   "cell_type": "code",
   "execution_count": 113,
   "id": "17168812",
   "metadata": {},
   "outputs": [
    {
     "name": "stdout",
     "output_type": "stream",
     "text": [
      "3/5\n",
      "0.3333333333333333\n",
      "2/5\n",
      "0.5\n"
     ]
    },
    {
     "data": {
      "text/plain": [
       "0.4"
      ]
     },
     "execution_count": 113,
     "metadata": {},
     "output_type": "execute_result"
    }
   ],
   "source": [
    "# sv = [2,2,1]#o temp\n",
    "# p = [0,1,1]\n",
    "# n = np.subtract(sv,p)\n",
    "# expected_majority(sv,p,n)\n",
    "\n",
    "# sv = [3,2]#o humidity\n",
    "# p = [0,2]\n",
    "# n = np.subtract(sv,p)\n",
    "# expected_majority(sv,p,n)\n",
    "\n",
    "\n",
    "sv = [3,2]#o humidity\n",
    "p = [1,1]\n",
    "n = np.subtract(sv,p)\n",
    "expected_majority(sv,p,n)\n",
    "\n"
   ]
  },
  {
   "cell_type": "code",
   "execution_count": 114,
   "id": "c642efef",
   "metadata": {},
   "outputs": [
    {
     "data": {
      "text/plain": [
       "-0.11428571428571432"
      ]
     },
     "execution_count": 114,
     "metadata": {},
     "output_type": "execute_result"
    }
   ],
   "source": [
    "4/14-0.4"
   ]
  },
  {
   "cell_type": "code",
   "execution_count": 115,
   "id": "f469a6df",
   "metadata": {},
   "outputs": [
    {
     "data": {
      "text/plain": [
       "0.2857142857142857"
      ]
     },
     "execution_count": 115,
     "metadata": {},
     "output_type": "execute_result"
    }
   ],
   "source": [
    "4/14"
   ]
  },
  {
   "cell_type": "code",
   "execution_count": 118,
   "id": "d04aa7dd",
   "metadata": {},
   "outputs": [
    {
     "data": {
      "text/plain": [
       "-0.070032142239009"
      ]
     },
     "execution_count": 118,
     "metadata": {},
     "output_type": "execute_result"
    }
   ],
   "source": [
    "(3/7)*(-1/3 * np.log2(1/3) - 2/3* np.log2(2/3))- (4/7) *(-(3/4) * np.log2(3/4) -(1/4)* np.log2(1/4))"
   ]
  },
  {
   "cell_type": "code",
   "execution_count": 121,
   "id": "098085f7",
   "metadata": {},
   "outputs": [
    {
     "data": {
      "text/plain": [
       "-0.8365012677171204"
      ]
     },
     "execution_count": 121,
     "metadata": {},
     "output_type": "execute_result"
    }
   ],
   "source": [
    "np.log2(3/(5+5/14))"
   ]
  },
  {
   "cell_type": "code",
   "execution_count": 147,
   "id": "b6581286",
   "metadata": {},
   "outputs": [
    {
     "data": {
      "text/plain": [
       "0.35335933502142136"
      ]
     },
     "execution_count": 147,
     "metadata": {},
     "output_type": "execute_result"
    }
   ],
   "source": [
    "(-4/(4+4/14))*np.log2(4/(4+4/14))-(4/14)/(4+4/14)*np.log2((4/14)/(4+4/14))"
   ]
  },
  {
   "cell_type": "code",
   "execution_count": 145,
   "id": "c76bcd32",
   "metadata": {},
   "outputs": [
    {
     "data": {
      "text/plain": [
       "0.9895875212220555"
      ]
     },
     "execution_count": 145,
     "metadata": {},
     "output_type": "execute_result"
    }
   ],
   "source": [
    "(-3/(5+5/14))*np.log2(3/(5+5/14))-(2+5/14)/(5+5/14)*np.log2((2+5/14)/(5+5/14))"
   ]
  },
  {
   "cell_type": "code",
   "execution_count": 146,
   "id": "8b888133",
   "metadata": {},
   "outputs": [
    {
     "data": {
      "text/plain": [
       "0.9531971725430559"
      ]
     },
     "execution_count": 146,
     "metadata": {},
     "output_type": "execute_result"
    }
   ],
   "source": [
    "(-2/(5+5/14))*np.log2(2/(5+5/14))-(3+5/14)/(5+5/14)*np.log2((3+5/14)/(5+5/14))"
   ]
  },
  {
   "cell_type": "code",
   "execution_count": 126,
   "id": "3684710a",
   "metadata": {},
   "outputs": [
    {
     "data": {
      "text/plain": [
       "0.9182958340544896"
      ]
     },
     "execution_count": 126,
     "metadata": {},
     "output_type": "execute_result"
    }
   ],
   "source": [
    "(-5/15)*np.log2(5/15)-(10/15)*np.log2(10/15)"
   ]
  },
  {
   "cell_type": "code",
   "execution_count": 148,
   "id": "c5a9f65e",
   "metadata": {},
   "outputs": [
    {
     "data": {
      "text/plain": [
       "0.794692857142857"
      ]
     },
     "execution_count": 148,
     "metadata": {},
     "output_type": "execute_result"
    }
   ],
   "source": [
    "((5+5/14)/15)*0.9895 + ((5+5/14)/15)*0.953 + ((4+4/14)/15)*0.3533"
   ]
  },
  {
   "cell_type": "code",
   "execution_count": 131,
   "id": "077eaec5",
   "metadata": {},
   "outputs": [
    {
     "data": {
      "text/plain": [
       "0.124"
      ]
     },
     "execution_count": 131,
     "metadata": {},
     "output_type": "execute_result"
    }
   ],
   "source": [
    "0.918-0.794"
   ]
  },
  {
   "cell_type": "code",
   "execution_count": 143,
   "id": "0046a76f",
   "metadata": {},
   "outputs": [
    {
     "data": {
      "text/plain": [
       "0.7642045065086203"
      ]
     },
     "execution_count": 143,
     "metadata": {},
     "output_type": "execute_result"
    }
   ],
   "source": [
    "-7/9* np.log2(7/9)-2/9* np.log2(2/9)\n",
    "        "
   ]
  },
  {
   "cell_type": "code",
   "execution_count": 144,
   "id": "d3e784f1",
   "metadata": {},
   "outputs": [
    {
     "data": {
      "text/plain": [
       "0.8584"
      ]
     },
     "execution_count": 144,
     "metadata": {},
     "output_type": "execute_result"
    }
   ],
   "source": [
    "(9/15)*0.764 + (6/15)*1"
   ]
  },
  {
   "cell_type": "code",
   "execution_count": 159,
   "id": "130a290f",
   "metadata": {},
   "outputs": [
    {
     "data": {
      "text/plain": [
       "0.9182958340544896"
      ]
     },
     "execution_count": 159,
     "metadata": {},
     "output_type": "execute_result"
    }
   ],
   "source": [
    "-1/3* np.log2(1/3)-2/3* np.log2(2/3)\n"
   ]
  },
  {
   "cell_type": "code",
   "execution_count": 150,
   "id": "faabfd75",
   "metadata": {},
   "outputs": [
    {
     "data": {
      "text/plain": [
       "0.9648571428571429"
      ]
     },
     "execution_count": 150,
     "metadata": {},
     "output_type": "execute_result"
    }
   ],
   "source": [
    "(3/7)*0.918+(4/7)"
   ]
  },
  {
   "cell_type": "code",
   "execution_count": 152,
   "id": "94f0d4c0",
   "metadata": {},
   "outputs": [
    {
     "data": {
      "text/plain": [
       "0.02100000000000002"
      ]
     },
     "execution_count": 152,
     "metadata": {},
     "output_type": "execute_result"
    }
   ],
   "source": [
    "0.985-(0.964)"
   ]
  },
  {
   "cell_type": "code",
   "execution_count": 153,
   "id": "27e07758",
   "metadata": {},
   "outputs": [
    {
     "data": {
      "text/plain": [
       "0.5435644431995964"
      ]
     },
     "execution_count": 153,
     "metadata": {},
     "output_type": "execute_result"
    }
   ],
   "source": [
    "-7/8* np.log2(7/8)-1/8* np.log2(1/8)\n"
   ]
  },
  {
   "cell_type": "code",
   "execution_count": 154,
   "id": "0f401634",
   "metadata": {},
   "outputs": [
    {
     "data": {
      "text/plain": [
       "0.8708644692353644"
      ]
     },
     "execution_count": 154,
     "metadata": {},
     "output_type": "execute_result"
    }
   ],
   "source": [
    "(-1/(3+3/7))*np.log2(1/(3+3/7))-(2+3/7)/(3+3/7)*np.log2((2+3/7)/(3+3/7))"
   ]
  },
  {
   "cell_type": "code",
   "execution_count": 155,
   "id": "164d172d",
   "metadata": {},
   "outputs": [
    {
     "data": {
      "text/plain": [
       "0.37285714285714283"
      ]
     },
     "execution_count": 155,
     "metadata": {},
     "output_type": "execute_result"
    }
   ],
   "source": [
    "((3+3/7)/8)*0.87"
   ]
  },
  {
   "cell_type": "code",
   "execution_count": 156,
   "id": "bb299ba7",
   "metadata": {},
   "outputs": [
    {
     "data": {
      "text/plain": [
       "0.17149999999999999"
      ]
     },
     "execution_count": 156,
     "metadata": {},
     "output_type": "execute_result"
    }
   ],
   "source": [
    "0.5435-0.372"
   ]
  },
  {
   "cell_type": "code",
   "execution_count": 178,
   "id": "2640f5c3",
   "metadata": {},
   "outputs": [
    {
     "data": {
      "text/plain": [
       "0.8112781244591328"
      ]
     },
     "execution_count": 178,
     "metadata": {},
     "output_type": "execute_result"
    }
   ],
   "source": [
    "(-1/4* np.log2(1/4)-3/4* np.log2(3/4))\n"
   ]
  },
  {
   "cell_type": "code",
   "execution_count": 160,
   "id": "3a487cfd",
   "metadata": {},
   "outputs": [
    {
     "data": {
      "text/plain": [
       "0.34425"
      ]
     },
     "execution_count": 160,
     "metadata": {},
     "output_type": "execute_result"
    }
   ],
   "source": [
    "(3/8)*0.918"
   ]
  },
  {
   "cell_type": "code",
   "execution_count": 161,
   "id": "b53da56a",
   "metadata": {},
   "outputs": [
    {
     "data": {
      "text/plain": [
       "0.19924999999999998"
      ]
     },
     "execution_count": 161,
     "metadata": {},
     "output_type": "execute_result"
    }
   ],
   "source": [
    "0.5435-0.34425"
   ]
  },
  {
   "cell_type": "code",
   "execution_count": 164,
   "id": "1fb89948",
   "metadata": {},
   "outputs": [
    {
     "data": {
      "text/plain": [
       "0.48"
      ]
     },
     "execution_count": 164,
     "metadata": {},
     "output_type": "execute_result"
    }
   ],
   "source": [
    "12/25"
   ]
  },
  {
   "cell_type": "code",
   "execution_count": 165,
   "id": "e05f03cb",
   "metadata": {},
   "outputs": [
    {
     "data": {
      "text/plain": [
       "1.0"
      ]
     },
     "execution_count": 165,
     "metadata": {},
     "output_type": "execute_result"
    }
   ],
   "source": [
    "-1/2* np.log2(1/2)-1/2* np.log2(1/2)\n"
   ]
  },
  {
   "cell_type": "code",
   "execution_count": 168,
   "id": "e739491e",
   "metadata": {},
   "outputs": [
    {
     "data": {
      "text/plain": [
       "0.9182958340544896"
      ]
     },
     "execution_count": 168,
     "metadata": {},
     "output_type": "execute_result"
    }
   ],
   "source": [
    "-5/15* np.log2(5/15)-10/15* np.log2(10/15)\n"
   ]
  },
  {
   "cell_type": "code",
   "execution_count": 169,
   "id": "baec523a",
   "metadata": {},
   "outputs": [
    {
     "data": {
      "text/plain": [
       "0.9709505944546686"
      ]
     },
     "execution_count": 169,
     "metadata": {},
     "output_type": "execute_result"
    }
   ],
   "source": [
    "-3/5* np.log2(3/5)-2/5* np.log2(2/5)\n"
   ]
  },
  {
   "cell_type": "code",
   "execution_count": 170,
   "id": "2bf6cd49",
   "metadata": {},
   "outputs": [
    {
     "data": {
      "text/plain": [
       "0.7233333333333334"
      ]
     },
     "execution_count": 170,
     "metadata": {},
     "output_type": "execute_result"
    }
   ],
   "source": [
    "(6/15)+(5/15)*0.97"
   ]
  },
  {
   "cell_type": "code",
   "execution_count": 171,
   "id": "7cb5efb5",
   "metadata": {},
   "outputs": [
    {
     "data": {
      "text/plain": [
       "0.9402859586706311"
      ]
     },
     "execution_count": 171,
     "metadata": {},
     "output_type": "execute_result"
    }
   ],
   "source": [
    "-5/14* np.log2(5/14)-9/14* np.log2(9/14)\n"
   ]
  },
  {
   "cell_type": "code",
   "execution_count": 173,
   "id": "00ba9ecc",
   "metadata": {},
   "outputs": [
    {
     "data": {
      "text/plain": [
       "1.584962500721156"
      ]
     },
     "execution_count": 173,
     "metadata": {},
     "output_type": "execute_result"
    }
   ],
   "source": [
    "3*(-1/3*np.log2(1/3))"
   ]
  },
  {
   "cell_type": "code",
   "execution_count": 177,
   "id": "49c3899e",
   "metadata": {},
   "outputs": [
    {
     "data": {
      "text/plain": [
       "0.4695714285714286"
      ]
     },
     "execution_count": 177,
     "metadata": {},
     "output_type": "execute_result"
    }
   ],
   "source": [
    "0.863 -(4/7)* 0 - (3/7) *0.918"
   ]
  },
  {
   "cell_type": "code",
   "execution_count": 179,
   "id": "91a7ca7b",
   "metadata": {},
   "outputs": [
    {
     "data": {
      "text/plain": [
       "-0.8568571428571428"
      ]
     },
     "execution_count": 179,
     "metadata": {},
     "output_type": "execute_result"
    }
   ],
   "source": [
    "-(3/7)*0.918 - (4/7) * 0.811"
   ]
  },
  {
   "cell_type": "code",
   "execution_count": 180,
   "id": "fc79b879",
   "metadata": {},
   "outputs": [
    {
     "data": {
      "text/plain": [
       "0.007000000000000006"
      ]
     },
     "execution_count": 180,
     "metadata": {},
     "output_type": "execute_result"
    }
   ],
   "source": [
    "0.863 - 0.856"
   ]
  },
  {
   "cell_type": "code",
   "execution_count": 1,
   "id": "56da2254",
   "metadata": {},
   "outputs": [
    {
     "data": {
      "text/plain": [
       "0.48"
      ]
     },
     "execution_count": 1,
     "metadata": {},
     "output_type": "execute_result"
    }
   ],
   "source": [
    "1-((2/5)**2+(3/5)**2)"
   ]
  },
  {
   "cell_type": "code",
   "execution_count": null,
   "id": "0fe5bdd5",
   "metadata": {},
   "outputs": [],
   "source": []
  }
 ],
 "metadata": {
  "kernelspec": {
   "display_name": "Python 3 (ipykernel)",
   "language": "python",
   "name": "python3"
  },
  "language_info": {
   "codemirror_mode": {
    "name": "ipython",
    "version": 3
   },
   "file_extension": ".py",
   "mimetype": "text/x-python",
   "name": "python",
   "nbconvert_exporter": "python",
   "pygments_lexer": "ipython3",
   "version": "3.9.6"
  }
 },
 "nbformat": 4,
 "nbformat_minor": 5
}
